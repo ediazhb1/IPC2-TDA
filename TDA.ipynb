{
  "nbformat": 4,
  "nbformat_minor": 0,
  "metadata": {
    "colab": {
      "name": "TDA.ipynb",
      "provenance": [],
      "collapsed_sections": [],
      "authorship_tag": "ABX9TyNgcVBkTJUtyD2P0zBgSwBX",
      "include_colab_link": true
    },
    "kernelspec": {
      "name": "python3",
      "display_name": "Python 3"
    }
  },
  "cells": [
    {
      "cell_type": "markdown",
      "metadata": {
        "id": "view-in-github",
        "colab_type": "text"
      },
      "source": [
        "<a href=\"https://colab.research.google.com/github/ediazhb1/IPC2-TDA/blob/main/TDA.ipynb\" target=\"_parent\"><img src=\"https://colab.research.google.com/assets/colab-badge.svg\" alt=\"Open In Colab\"/></a>"
      ]
    },
    {
      "cell_type": "markdown",
      "metadata": {
        "id": "qjx-Atxzc4m3"
      },
      "source": [
        "\n",
        "\n",
        "```\n",
        "# Esto tiene formato de código\n",
        "```\n",
        "\n",
        "# **Ejercicio de listas enlazadas**"
      ]
    },
    {
      "cell_type": "code",
      "metadata": {
        "id": "l7ybrAsHd44_"
      },
      "source": [
        "class cliente:\n",
        "  def __init__(self, nombre, no_habitacion):\n",
        "    self.nombre = nombre\n",
        "    self.no_habitacion = no_habitacion\n"
      ],
      "execution_count": 1,
      "outputs": []
    },
    {
      "cell_type": "code",
      "metadata": {
        "id": "knkryyEBWD7X"
      },
      "source": [
        "class node:\n",
        "  def __init__(self, cliente=None, next=None):\n",
        "    self.cliente = cliente\n",
        "    self.next = next\n"
      ],
      "execution_count": 2,
      "outputs": []
    },
    {
      "cell_type": "code",
      "metadata": {
        "id": "Sj8O0DfqYQor"
      },
      "source": [
        "class linked_list:\n",
        "  def __init__(self):\n",
        "    self.head = None\n",
        "\n",
        "  def insertar(self,cliente):\n",
        "      if not self.head:\n",
        "        return\n",
        "      current = self.head\n",
        "      while current.next:\n",
        "        current = current.next\n",
        "      current.next = node(cliente=cliente)\n",
        "\n",
        "  def imprimir(self):\n",
        "      node = self.head\n",
        "      while node != None:\n",
        "        print(node.cliente.nombre, end=\"=>\")\n",
        "        node = node.next\n",
        "  \n",
        "  def eliminar(self, no_habitacion):\n",
        "    current = self.head\n",
        "    previous = None\n",
        "\n",
        "    while current and current.cliente.no_habitacion != no_habitacion:\n",
        "      previous = current \n",
        "      current = current.next\n",
        "    if previous is None:\n",
        "      self.head = current.next\n",
        "    elif current:\n",
        "      previous.next = current.next\n",
        "      current.next = None\n"
      ],
      "execution_count": null,
      "outputs": []
    },
    {
      "cell_type": "code",
      "metadata": {
        "id": "vj0aKlNsc309"
      },
      "source": [
        "c1 =cliente(\"Estuado Zapeta\", 101)\n",
        "c2 =cliente(\"Marco López\", 103)\n",
        "c3 =cliente(\"Josue Armas\", 204)\n",
        "c4 =cliente(\"Glady Olmos\", 302)"
      ],
      "execution_count": 4,
      "outputs": []
    },
    {
      "cell_type": "code",
      "metadata": {
        "id": "-XWahLyodUNo"
      },
      "source": [
        "lista = linked_list()\n",
        "lista.insertar(c1)\n",
        "lista.insertar(c2)\n",
        "lista.insertar(c3)\n",
        "lista.insertar(c4)"
      ],
      "execution_count": null,
      "outputs": []
    },
    {
      "cell_type": "code",
      "metadata": {
        "id": "Kgb8FFrifhSh"
      },
      "source": [
        "lista.imprimir()"
      ],
      "execution_count": null,
      "outputs": []
    },
    {
      "cell_type": "markdown",
      "metadata": {
        "id": "Fbh_RU8jPcRJ"
      },
      "source": [
        "**LISTAS CIRCULARES**"
      ]
    },
    {
      "cell_type": "code",
      "metadata": {
        "id": "2tgynVpnPs1U"
      },
      "source": [
        "class linked_list_circular:\n",
        "  def __init__(self,head = None):\n",
        "    self.head = head\n",
        "    self.size = 0\n",
        "\n",
        "  def insertar(self, cliente):\n",
        "    if self.size ==0:\n",
        "      self.head = node(cliente = cliente)\n",
        "      self.head.next = self.head\n",
        "    else:\n",
        "      new_node = node(cliente = cliente, next=self.head.next)\n",
        "      self.head.next = new_node\n",
        "    self.size += 1\n",
        "\n",
        "  def imprimir(self):\n",
        "    if self.head is None:\n",
        "      return\n",
        "    node = self.head\n",
        "    print(node.cliente.nombre, end =\" => \")\n",
        "    while node.next != self.head:\n",
        "      node = node.next\n",
        "      print(node.cliente.nombre, end= \" => \")\n",
        "\n",
        "  def eliminar (self, no_habitacion):\n",
        "    node = self.head\n",
        "    previous = None\n",
        "\n",
        "    while True:\n",
        "      if node.cliente.no_habitacion == no_habitacion:\n",
        "        if previous is not None:\n",
        "          previous.next = node.next\n",
        "        else:\n",
        "          while node.next != self.head:\n",
        "            node = node.next\n",
        "          node.next = self.head.next\n",
        "          self.head = self.head.next\n",
        "        self.size -=1\n",
        "        return True\n",
        "      elif node.next == self.head:\n",
        "        return False\n",
        "\n",
        "      previous = node\n",
        "      node = node.next\n"
      ],
      "execution_count": 13,
      "outputs": []
    },
    {
      "cell_type": "code",
      "metadata": {
        "id": "lgRwwMa8RqFA"
      },
      "source": [
        "lista_c = linked_list_circular()\n",
        "lista_c.insertar(c1)\n",
        "lista_c.insertar(c2)\n",
        "lista_c.insertar(c3)\n",
        "lista_c.insertar(c4)"
      ],
      "execution_count": 14,
      "outputs": []
    },
    {
      "cell_type": "code",
      "metadata": {
        "colab": {
          "base_uri": "https://localhost:8080/"
        },
        "id": "9DLkqpv9UuVF",
        "outputId": "2b057e5e-f081-4985-c0af-c6f1391eddae"
      },
      "source": [
        "lista_c.imprimir()"
      ],
      "execution_count": 15,
      "outputs": [
        {
          "output_type": "stream",
          "text": [
            "Estuado Zapeta => Glady Olmos => Josue Armas => Marco López => "
          ],
          "name": "stdout"
        }
      ]
    },
    {
      "cell_type": "code",
      "metadata": {
        "colab": {
          "base_uri": "https://localhost:8080/"
        },
        "id": "pp8ocXkTec8q",
        "outputId": "eac41ac7-9f68-42ad-f3d1-39b7edae0d37"
      },
      "source": [
        "lista_c.eliminar(101)"
      ],
      "execution_count": 16,
      "outputs": [
        {
          "output_type": "execute_result",
          "data": {
            "text/plain": [
              "True"
            ]
          },
          "metadata": {
            "tags": []
          },
          "execution_count": 16
        }
      ]
    },
    {
      "cell_type": "code",
      "metadata": {
        "colab": {
          "base_uri": "https://localhost:8080/"
        },
        "id": "L_f_E_joenP1",
        "outputId": "279dcc73-6e5a-453b-ddba-5551d29c11ae"
      },
      "source": [
        "lista_c.imprimir()"
      ],
      "execution_count": 17,
      "outputs": [
        {
          "output_type": "stream",
          "text": [
            "Glady Olmos => Josue Armas => Marco López => "
          ],
          "name": "stdout"
        }
      ]
    },
    {
      "cell_type": "code",
      "metadata": {
        "colab": {
          "base_uri": "https://localhost:8080/"
        },
        "id": "8yFIyLOIgzRP",
        "outputId": "2d94ea6c-6e72-43dc-e9ef-89aa45325f73"
      },
      "source": [
        "lista_c.eliminar(103)"
      ],
      "execution_count": 18,
      "outputs": [
        {
          "output_type": "execute_result",
          "data": {
            "text/plain": [
              "True"
            ]
          },
          "metadata": {
            "tags": []
          },
          "execution_count": 18
        }
      ]
    },
    {
      "cell_type": "code",
      "metadata": {
        "colab": {
          "base_uri": "https://localhost:8080/"
        },
        "id": "KVS3QmIihHpq",
        "outputId": "70a4ea40-dea9-4359-d82c-eb938b27bc42"
      },
      "source": [
        "lista_c.imprimir()"
      ],
      "execution_count": 19,
      "outputs": [
        {
          "output_type": "stream",
          "text": [
            "Glady Olmos => Josue Armas => "
          ],
          "name": "stdout"
        }
      ]
    },
    {
      "cell_type": "markdown",
      "metadata": {
        "id": "EaEJjgVujEDX"
      },
      "source": [
        "**LISTAS DOBLEMENTE ENLAZADAS**"
      ]
    },
    {
      "cell_type": "code",
      "metadata": {
        "id": "AqLau-OcjITb"
      },
      "source": [
        "class node_de:\n",
        "  def __init__(self, cliente=None, next = None, previous = None):\n",
        "    self.cliente = cliente\n",
        "    self.previous = previous\n",
        "    self.next = next"
      ],
      "execution_count": null,
      "outputs": []
    }
  ]
}