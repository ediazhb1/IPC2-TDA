{
  "nbformat": 4,
  "nbformat_minor": 0,
  "metadata": {
    "colab": {
      "name": "TDA.ipynb",
      "provenance": [],
      "collapsed_sections": [],
      "authorship_tag": "ABX9TyPgKSqY6NEb02mTAW340G/b",
      "include_colab_link": true
    },
    "kernelspec": {
      "name": "python3",
      "display_name": "Python 3"
    }
  },
  "cells": [
    {
      "cell_type": "markdown",
      "metadata": {
        "id": "view-in-github",
        "colab_type": "text"
      },
      "source": [
        "<a href=\"https://colab.research.google.com/github/ediazhb1/IPC2-TDA/blob/main/TDA.ipynb\" target=\"_parent\"><img src=\"https://colab.research.google.com/assets/colab-badge.svg\" alt=\"Open In Colab\"/></a>"
      ]
    },
    {
      "cell_type": "markdown",
      "metadata": {
        "id": "qjx-Atxzc4m3"
      },
      "source": [
        "\n",
        "\n",
        "```\n",
        "# Esto tiene formato de código\n",
        "```\n",
        "\n",
        "# **Ejercicio de listas enlazadas**"
      ]
    },
    {
      "cell_type": "code",
      "metadata": {
        "id": "l7ybrAsHd44_"
      },
      "source": [
        "class cliente:\n",
        "  def __init__(self, nombre, no_habitacion):\n",
        "    self.nombre = nombre\n",
        "    self.no_habitacion = no_habitacion\n"
      ],
      "execution_count": 1,
      "outputs": []
    },
    {
      "cell_type": "code",
      "metadata": {
        "id": "knkryyEBWD7X"
      },
      "source": [
        "class node:\n",
        "  def __init__(self, cliente=None, next=None):\n",
        "    self.cliente = cliente\n",
        "    self.next = next\n"
      ],
      "execution_count": null,
      "outputs": []
    },
    {
      "cell_type": "code",
      "metadata": {
        "id": "Sj8O0DfqYQor"
      },
      "source": [
        "class linked_list:\n",
        "  def __init__(self):\n",
        "    self.head = None\n",
        "\n",
        "  def insertar(self,cliente):\n",
        "      if not self.head:\n",
        "        return\n",
        "      current = self.head\n",
        "      while current.next:\n",
        "        current = current.next\n",
        "      current.next = node(cliente=cliente)\n",
        "\n",
        "  def imprimir(self):\n",
        "      node = self.head\n",
        "      while node != None:\n",
        "        print(node.cliente.nombre, end=\"=>\")\n",
        "        node = node.next\n",
        "  \n",
        "  def eliminar(self, no_habitacion):\n",
        "    current = self.head\n",
        "    previous = None\n",
        "\n",
        "    while current and current.cliente.no_habitacion != no_habitacion:\n",
        "      previous = current \n",
        "      current = current.next\n",
        "    if previous is None:\n",
        "      self.head = current.next\n",
        "    elif current:\n",
        "      previous.next = current.next\n",
        "      current.next = None\n"
      ],
      "execution_count": null,
      "outputs": []
    },
    {
      "cell_type": "code",
      "metadata": {
        "id": "vj0aKlNsc309"
      },
      "source": [
        "c1 =cliente(\"Estuado Zapeta\", 101)\n",
        "c2 =cliente(\"Marco López\", 103)\n",
        "c3 =cliente(\"Josue Armas\", 204)\n",
        "c4 =cliente(\"Glady Olmos\", 302)"
      ],
      "execution_count": null,
      "outputs": []
    },
    {
      "cell_type": "code",
      "metadata": {
        "id": "-XWahLyodUNo"
      },
      "source": [
        "lista = linked_list()\n",
        "lista.insertar(c1)\n",
        "lista.insertar(c2)\n",
        "lista.insertar(c3)\n",
        "lista.insertar(c4)"
      ],
      "execution_count": null,
      "outputs": []
    },
    {
      "cell_type": "code",
      "metadata": {
        "id": "Kgb8FFrifhSh"
      },
      "source": [
        "lista.imprimir()"
      ],
      "execution_count": null,
      "outputs": []
    },
    {
      "cell_type": "markdown",
      "metadata": {
        "id": "Fbh_RU8jPcRJ"
      },
      "source": [
        "**LISTAS CIRCULARES**"
      ]
    },
    {
      "cell_type": "code",
      "metadata": {
        "id": "2tgynVpnPs1U"
      },
      "source": [
        "class linked_list_circular:\n",
        "  def __init__(self,head = None):\n",
        "    self.head = head\n",
        "    self.size = 0\n",
        "\n",
        "  def insertar(self, cliente):\n",
        "    if self.size ==0:\n",
        "      self.head = node(cliente = cliente)\n",
        "      self.head.next = self.head\n",
        "    else:\n",
        "      new_node = node(cliente = cliente, next=self.head.next)\n",
        "      self.head.next = new_node\n",
        "    self.size += 1\n",
        "\n",
        "  def imprimir(self):\n",
        "    if self.head is None:\n",
        "      return\n",
        "    node = self.head\n",
        "    print(node.cliente.nombre, end =\" => \")\n",
        "    while node.next != self.head:\n",
        "      node = node.next\n",
        "      print(node.cliente.nombre, end= \" => \")\n",
        "\n",
        "  def eliminar (self, no_habitacion):\n",
        "    node = self.head\n",
        "    previous = None\n",
        "\n",
        "    while True:\n",
        "      if node.cliente.no_habitacion == no_habitacion:\n",
        "        if previous is not None:\n",
        "          previous.next = node.next\n",
        "        else:\n",
        "          while node.next != self.head:\n",
        "            node = node.next\n",
        "          node.next = self.head.next\n",
        "          self.head = self.head.next\n",
        "        self.size -=1\n",
        "        return True\n",
        "      elif node.next == self.head:\n",
        "        return False\n",
        "\n",
        "      previous = node\n",
        "      node = node.next\n"
      ],
      "execution_count": null,
      "outputs": []
    },
    {
      "cell_type": "code",
      "metadata": {
        "id": "lgRwwMa8RqFA"
      },
      "source": [
        "lista_c = linked_list_circular()\n",
        "lista_c.insertar(c1)\n",
        "lista_c.insertar(c2)\n",
        "lista_c.insertar(c3)\n",
        "lista_c.insertar(c4)"
      ],
      "execution_count": null,
      "outputs": []
    },
    {
      "cell_type": "code",
      "metadata": {
        "colab": {
          "base_uri": "https://localhost:8080/"
        },
        "id": "9DLkqpv9UuVF",
        "outputId": "2b057e5e-f081-4985-c0af-c6f1391eddae"
      },
      "source": [
        "lista_c.imprimir()"
      ],
      "execution_count": null,
      "outputs": [
        {
          "output_type": "stream",
          "text": [
            "Estuado Zapeta => Glady Olmos => Josue Armas => Marco López => "
          ],
          "name": "stdout"
        }
      ]
    },
    {
      "cell_type": "code",
      "metadata": {
        "colab": {
          "base_uri": "https://localhost:8080/"
        },
        "id": "pp8ocXkTec8q",
        "outputId": "eac41ac7-9f68-42ad-f3d1-39b7edae0d37"
      },
      "source": [
        "lista_c.eliminar(101)"
      ],
      "execution_count": null,
      "outputs": [
        {
          "output_type": "execute_result",
          "data": {
            "text/plain": [
              "True"
            ]
          },
          "metadata": {
            "tags": []
          },
          "execution_count": 16
        }
      ]
    },
    {
      "cell_type": "code",
      "metadata": {
        "colab": {
          "base_uri": "https://localhost:8080/"
        },
        "id": "L_f_E_joenP1",
        "outputId": "279dcc73-6e5a-453b-ddba-5551d29c11ae"
      },
      "source": [
        "lista_c.imprimir()"
      ],
      "execution_count": null,
      "outputs": [
        {
          "output_type": "stream",
          "text": [
            "Glady Olmos => Josue Armas => Marco López => "
          ],
          "name": "stdout"
        }
      ]
    },
    {
      "cell_type": "code",
      "metadata": {
        "colab": {
          "base_uri": "https://localhost:8080/"
        },
        "id": "8yFIyLOIgzRP",
        "outputId": "2d94ea6c-6e72-43dc-e9ef-89aa45325f73"
      },
      "source": [
        "lista_c.eliminar(103)"
      ],
      "execution_count": null,
      "outputs": [
        {
          "output_type": "execute_result",
          "data": {
            "text/plain": [
              "True"
            ]
          },
          "metadata": {
            "tags": []
          },
          "execution_count": 18
        }
      ]
    },
    {
      "cell_type": "code",
      "metadata": {
        "colab": {
          "base_uri": "https://localhost:8080/"
        },
        "id": "KVS3QmIihHpq",
        "outputId": "70a4ea40-dea9-4359-d82c-eb938b27bc42"
      },
      "source": [
        "lista_c.imprimir()"
      ],
      "execution_count": null,
      "outputs": [
        {
          "output_type": "stream",
          "text": [
            "Glady Olmos => Josue Armas => "
          ],
          "name": "stdout"
        }
      ]
    },
    {
      "cell_type": "markdown",
      "metadata": {
        "id": "EaEJjgVujEDX"
      },
      "source": [
        "**LISTAS DOBLEMENTE ENLAZADAS**"
      ]
    },
    {
      "cell_type": "code",
      "metadata": {
        "id": "AqLau-OcjITb"
      },
      "source": [
        "class node_de:\n",
        "  def __init__(self, cliente=None, next = None, previous = None):\n",
        "    self.cliente = cliente\n",
        "    self.previous = previous\n",
        "    self.next = next"
      ],
      "execution_count": null,
      "outputs": []
    },
    {
      "cell_type": "code",
      "metadata": {
        "id": "fmLMKYezZS9S"
      },
      "source": [
        "class linked_list_de:\n",
        "  def __init__(self, head =None):\n",
        "    self.head = head\n",
        "    self.last = head\n",
        "    self.size = 0\n",
        "\n",
        "  def insertar(self,cliente):\n",
        "    if self.size ==0:\n",
        "      self.head = node_de(cliente=cliente)\n",
        "      self.last =self.head\n",
        "    else:\n",
        "      new_node = node_De(cliente=cliente, next=self.head)\n",
        "      self.head.previous = new_node\n",
        "      self.head = new_node\n",
        "    self.size +=1\n",
        "\n",
        "  def imprimir(self):\n",
        "    if self.head is None:\n",
        "      return\n",
        "    node = self.head\n",
        "    print(node.cliente.nombre, end =\"=>\" )\n",
        "    while node.next:\n",
        "      node = node.next\n",
        "      print(node.cliente.nombre, end =\" => \") \n",
        "\n",
        "  def eliminar(self, no_habitacion):\n",
        "    node = self.head\n",
        "    while node is not None:\n",
        "      if node.cliente.no_habitacion == no_habitacion:\n",
        "        if node.previous is not None:\n",
        "          if node.next:\n",
        "            node.previous = node.next\n",
        "            node.next.previous = node.previous"
      ],
      "execution_count": null,
      "outputs": []
    },
    {
      "cell_type": "code",
      "metadata": {
        "id": "9p4cDs_8cqLh"
      },
      "source": [
        "c1 =cliente(\"Estuado Zapeta\", 101)\n",
        "c2 =cliente(\"Marco López\", 103)\n",
        "c3 =cliente(\"Josue Armas\", 204)"
      ],
      "execution_count": null,
      "outputs": []
    },
    {
      "cell_type": "code",
      "metadata": {
        "id": "JppVB3t-cuPj"
      },
      "source": [
        "lista_de = linked_list_de()\n",
        "lista_de.insertar(c1)\n",
        "lista_de.insertar(c2)\n",
        "lista_de.insertar(c3)"
      ],
      "execution_count": null,
      "outputs": []
    },
    {
      "cell_type": "code",
      "metadata": {
        "id": "M7z1D2KGeKnk"
      },
      "source": [
        "lista_de.imprimir()"
      ],
      "execution_count": null,
      "outputs": []
    },
    {
      "cell_type": "markdown",
      "metadata": {
        "id": "mnPkIKJicb3q"
      },
      "source": [
        "**PILAS**"
      ]
    },
    {
      "cell_type": "code",
      "metadata": {
        "id": "B1iiYPG3ce7f"
      },
      "source": [
        "class Pila:\n",
        "  def __init__(self):\n",
        "    self.pila = []\n",
        "\n",
        "  def apilar(self, cliente):\n",
        "    self.pila.append(cliente)\n",
        "\n",
        "  def devolver_tamaño(self):\n",
        "    return len(self.pila)\n",
        "\n",
        "  def imprimir(self):\n",
        "    for elemento in self.pila:\n",
        "      print(elemento.nombre , end=\"=>\")\n",
        "\n",
        "  def desapilar(self):\n",
        "    if self.pila:\n",
        "      self.pila.pop()\n",
        "\n"
      ],
      "execution_count": 2,
      "outputs": []
    },
    {
      "cell_type": "code",
      "metadata": {
        "id": "zDlhMa6-dgKu"
      },
      "source": [
        "c1 =cliente(\"Estuado Zapeta\", 101)\n",
        "c2 =cliente(\"Marco López\", 103)\n",
        "c3 =cliente(\"Josue Armas\", 204)\n",
        "c4 =cliente(\"Glady Olmos\", 302)"
      ],
      "execution_count": 3,
      "outputs": []
    },
    {
      "cell_type": "code",
      "metadata": {
        "id": "e0jzUr-fdlMD"
      },
      "source": [
        "p = Pila()\n",
        "p.apilar(c1)\n",
        "p.apilar(c2)\n",
        "p.apilar(c3)\n",
        "p.apilar(c4)"
      ],
      "execution_count": 4,
      "outputs": []
    },
    {
      "cell_type": "code",
      "metadata": {
        "colab": {
          "base_uri": "https://localhost:8080/"
        },
        "id": "TOUkZBa_eOfX",
        "outputId": "d6a38e1a-f0e4-47d5-c29b-2963635ed75b"
      },
      "source": [
        "p.devolver_tamaño()"
      ],
      "execution_count": 5,
      "outputs": [
        {
          "output_type": "execute_result",
          "data": {
            "text/plain": [
              "4"
            ]
          },
          "metadata": {
            "tags": []
          },
          "execution_count": 5
        }
      ]
    },
    {
      "cell_type": "code",
      "metadata": {
        "colab": {
          "base_uri": "https://localhost:8080/"
        },
        "id": "H0cTxfRGfatA",
        "outputId": "3f8acd5d-d3f6-4f58-ad75-d40080cd861e"
      },
      "source": [
        "p.imprimir()"
      ],
      "execution_count": 6,
      "outputs": [
        {
          "output_type": "stream",
          "text": [
            "Estuado Zapeta=>Marco López=>Josue Armas=>Glady Olmos=>"
          ],
          "name": "stdout"
        }
      ]
    },
    {
      "cell_type": "code",
      "metadata": {
        "id": "3JyBY0Emga2T"
      },
      "source": [
        "p.desapilar()"
      ],
      "execution_count": 7,
      "outputs": []
    },
    {
      "cell_type": "code",
      "metadata": {
        "colab": {
          "base_uri": "https://localhost:8080/"
        },
        "id": "Ce_J7OdSgdYV",
        "outputId": "3eff3bea-45a0-4675-9f9e-03b24d7f7f9a"
      },
      "source": [
        "p.imprimir()"
      ],
      "execution_count": 8,
      "outputs": [
        {
          "output_type": "stream",
          "text": [
            "Estuado Zapeta=>Marco López=>Josue Armas=>"
          ],
          "name": "stdout"
        }
      ]
    },
    {
      "cell_type": "markdown",
      "metadata": {
        "id": "Vzj1oPG1i12-"
      },
      "source": [
        "**COLAS**"
      ]
    },
    {
      "cell_type": "code",
      "metadata": {
        "id": "FsAyJLk8i43d"
      },
      "source": [
        "class Cola:\n",
        "  def __init__(self):\n",
        "    self.cola =[]\n",
        "\n",
        "  def encolar(self,cliente):\n",
        "    self.cola.append(cliente)\n",
        "\n",
        "  def devolver_tamaño(self):\n",
        "    return len(self.cola)\n",
        "\n",
        "  def imprimir(self):\n",
        "    for elemento in self.cola:\n",
        "      print(elemento.nombre, end= \"<=\")\n",
        "\n",
        "  def desencolar(self):\n",
        "    if self.cola:\n",
        "      self.cola.pop(0)"
      ],
      "execution_count": 9,
      "outputs": []
    },
    {
      "cell_type": "code",
      "metadata": {
        "id": "exuY59ZtjNCi"
      },
      "source": [
        "c1 =cliente(\"Estuado Zapeta\", 101)\n",
        "c2 =cliente(\"Marco López\", 103)\n",
        "c3 =cliente(\"Josue Armas\", 204)\n",
        "c4 =cliente(\"Glady Olmos\", 302)"
      ],
      "execution_count": 10,
      "outputs": []
    },
    {
      "cell_type": "code",
      "metadata": {
        "id": "unCG4asjjRGN"
      },
      "source": [
        "c = Cola()\n",
        "c.encolar(c1)\n",
        "c.encolar(c2)\n",
        "c.encolar(c3)\n",
        "c.encolar(c4)"
      ],
      "execution_count": 11,
      "outputs": []
    },
    {
      "cell_type": "code",
      "metadata": {
        "colab": {
          "base_uri": "https://localhost:8080/"
        },
        "id": "in7nVLofjeK0",
        "outputId": "43bc7159-e59d-4866-96d7-6932432bf430"
      },
      "source": [
        "c.imprimir()"
      ],
      "execution_count": 12,
      "outputs": [
        {
          "output_type": "stream",
          "text": [
            "Estuado Zapeta<=Marco López<=Josue Armas<=Glady Olmos<="
          ],
          "name": "stdout"
        }
      ]
    },
    {
      "cell_type": "code",
      "metadata": {
        "id": "1bvIdEKcj7d_"
      },
      "source": [
        "c.desencolar()"
      ],
      "execution_count": 13,
      "outputs": []
    },
    {
      "cell_type": "code",
      "metadata": {
        "colab": {
          "base_uri": "https://localhost:8080/"
        },
        "id": "ZukeLA-QkHlc",
        "outputId": "601e2970-9ef4-47d1-b9e4-2797f0827166"
      },
      "source": [
        "c.imprimir()"
      ],
      "execution_count": 14,
      "outputs": [
        {
          "output_type": "stream",
          "text": [
            "Marco López<=Josue Armas<=Glady Olmos<="
          ],
          "name": "stdout"
        }
      ]
    }
  ]
}